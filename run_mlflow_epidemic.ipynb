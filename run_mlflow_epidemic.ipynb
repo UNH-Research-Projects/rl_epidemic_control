{
 "cells": [
  {
   "cell_type": "code",
   "execution_count": 3,
   "metadata": {
    "id": "6-e_N-wk1nVd"
   },
   "outputs": [],
   "source": [
    "# %%capture\n",
    "!pip install gym seaborn keras-rl2 mlflow[extras] matplotlib"
   ]
  },
  {
   "cell_type": "code",
   "execution_count": 4,
   "metadata": {
    "id": "fLFH4h781thL"
   },
   "outputs": [],
   "source": [
    "from episode_runner import ep_run"
   ]
  },
  {
   "cell_type": "code",
   "execution_count": 36,
   "metadata": {
    "id": "K2p8VvFXG4ur"
   },
   "outputs": [],
   "source": [
    "# training\n",
    "reward, dqn = ep_run(\n",
    "    reward_factor=0.2, plot_title=\"Training\", train=True\n",
    ").run_experimentation(run_name=\"RUN_NAME\", lr=1e-3, num_steps=200000)"
   ]
  },
  {
   "cell_type": "code",
   "execution_count": null,
   "metadata": {},
   "outputs": [],
   "source": [
    "# testing\n",
    "test_ep_runner = ep_run(\n",
    "    reward_factor=0.2, plot_title=\"testing\", train=False\n",
    ")  # lockdown\n",
    "test_reward = dqn.test(test_ep_runner.env, num_episodes=100, visualize=False)"
   ]
  },
  {
   "cell_type": "code",
   "execution_count": null,
   "metadata": {},
   "outputs": [],
   "source": [
    "# manual simulation\n",
    "ep_runner = ep_run(plot_title=\"continuous restrictions\", train=False)  # lockdown\n",
    "simulation_reward = ep_runner.test(\n",
    "    test_ep_runner.env, experiment_type=\"lockdown\", num_episodes=1\n",
    ")"
   ]
  }
 ],
 "metadata": {
  "colab": {
   "provenance": []
  },
  "kernelspec": {
   "display_name": "pyenv",
   "language": "python",
   "name": "python3"
  },
  "language_info": {
   "codemirror_mode": {
    "name": "ipython",
    "version": 3
   },
   "file_extension": ".py",
   "mimetype": "text/x-python",
   "name": "python",
   "nbconvert_exporter": "python",
   "pygments_lexer": "ipython3",
   "version": "3.9.12"
  },
  "vscode": {
   "interpreter": {
    "hash": "29a260ff222dc73b9bcfc8ed83202808d0f2e6a0a74140e790ba5b7cf6031d41"
   }
  }
 },
 "nbformat": 4,
 "nbformat_minor": 4
}
